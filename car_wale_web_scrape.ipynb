{
 "cells": [
  {
   "cell_type": "code",
   "execution_count": 377,
   "id": "8f0e8e90-e7fd-41e2-862c-3ec050278f22",
   "metadata": {},
   "outputs": [],
   "source": [
    "import requests\n",
    "from bs4 import BeautifulSoup\n",
    "import pandas as pd\n",
    "import re\n",
    "from dataclasses import dataclass, asdict\n",
    "import pandas as pd"
   ]
  },
  {
   "cell_type": "code",
   "execution_count": 142,
   "id": "c3fb1ad3-7a25-49f2-878c-6bbcaced9aef",
   "metadata": {},
   "outputs": [],
   "source": [
    "base_url = \"https://www.carwale.com\""
   ]
  },
  {
   "cell_type": "code",
   "execution_count": 178,
   "id": "c894552a-36e3-4518-921f-2cafdd3e4436",
   "metadata": {},
   "outputs": [],
   "source": [
    "headers = {\n",
    "    \"User-Agent\": \"https://whatismybrowser.com/w/XC6L223\",\n",
    "    \"Referer\": \"https://www.google.com/\" \n",
    "}"
   ]
  },
  {
   "cell_type": "code",
   "execution_count": 180,
   "id": "91f558ec-7822-4e2c-9111-f3920c71d96a",
   "metadata": {},
   "outputs": [],
   "source": [
    "brand_url = \"https://www.carwale.com/maruti-suzuki-cars/\"\n",
    "#Scrape brandpage to get all car category links\n",
    "response = requests.get(brand_url, headers=headers)\n",
    "soup = BeautifulSoup(response.text, 'html.parser')"
   ]
  },
  {
   "cell_type": "markdown",
   "id": "69427f20-392a-4c84-bf56-5344d80371c9",
   "metadata": {
    "scrolled": true
   },
   "source": [
    "# getting the target_link \n",
    "\n",
    "category_section = soup.find('div', class_=\"o-fznJDS o-ckGLSv o-fznJFI o-cMwvCl o-fzpihY o-fzpilm o-brXWGL\")\n",
    "detail_links = category_section.find_all('a',href = True)\n",
    "for link in detail_links:\n",
    "    detail_link = link.get('href')  # Correct extraction of href attribute\n",
    "    target_link = base_url + detail_link  # Concatenate base URL and relative link\n",
    "    print(target_link)"
   ]
  },
  {
   "cell_type": "code",
   "execution_count": 345,
   "id": "a0851e9f-17d7-45be-af08-82a6ddbb9044",
   "metadata": {},
   "outputs": [],
   "source": [
    "@dataclass\n",
    "class CarSpecifications:\n",
    "    engine: str = \"N/A\"\n",
    "    engine_type: str = \"N/A\"\n",
    "    fuel_type: str = \"N/A\"\n",
    "    max_power: str = \"N/A\"\n",
    "    max_torque: str = \"N/A\"\n",
    "    mileage: str = \"N/A\"\n",
    "    driving_range: str = \"N/A\"\n",
    "    drivetrain: str = \"N/A\"\n",
    "    transmission_manual: str = \"N/A\"\n",
    "    emission_standard: str = \"N/A\"\n",
    "    electric_motor: str = \"N/A\"\n",
    "    others: str = \"N/A\"\n",
    "    valve_per_cylinder: str = \"N/A\"\n",
    "car_details_dict = {}"
   ]
  },
  {
   "cell_type": "code",
   "execution_count": 184,
   "id": "305402e1-5f87-4c9f-9cde-f7dd83f77bd6",
   "metadata": {
    "scrolled": true
   },
   "outputs": [
    {
     "data": {
      "text/plain": [
       "{'Maruti Dzire': 'https://www.carwale.com/maruti-suzuki-cars/dzire/',\n",
       " 'Maruti Fronx': 'https://www.carwale.com/maruti-suzuki-cars/fronx/',\n",
       " 'Maruti Swift': 'https://www.carwale.com/maruti-suzuki-cars/swift/',\n",
       " 'Maruti Grand Vitara': 'https://www.carwale.com/maruti-suzuki-cars/grand-vitara/',\n",
       " 'Maruti Brezza': 'https://www.carwale.com/maruti-suzuki-cars/brezza/',\n",
       " 'Maruti Ertiga': 'https://www.carwale.com/maruti-suzuki-cars/ertiga/',\n",
       " 'Maruti Baleno': 'https://www.carwale.com/maruti-suzuki-cars/baleno/',\n",
       " 'Maruti Alto K10': 'https://www.carwale.com/maruti-suzuki-cars/alto-k10/',\n",
       " 'Maruti Wagon R': 'https://www.carwale.com/maruti-suzuki-cars/wagon-r/',\n",
       " 'Maruti XL6': 'https://www.carwale.com/maruti-suzuki-cars/xl6/',\n",
       " 'Maruti Celerio': 'https://www.carwale.com/maruti-suzuki-cars/celerio/',\n",
       " 'Maruti Ignis': 'https://www.carwale.com/maruti-suzuki-cars/ignis/',\n",
       " 'Maruti S-Presso': 'https://www.carwale.com/maruti-suzuki-cars/s-presso/',\n",
       " 'Maruti Jimny': 'https://www.carwale.com/maruti-suzuki-cars/jimny/',\n",
       " 'Maruti Ciaz': 'https://www.carwale.com/maruti-suzuki-cars/ciaz/',\n",
       " 'Maruti Eeco': 'https://www.carwale.com/maruti-suzuki-cars/eeco/',\n",
       " 'Maruti Invicto': 'https://www.carwale.com/maruti-suzuki-cars/invicto/',\n",
       " 'Maruti Wagon R Flex Fuel': 'https://www.carwale.com/maruti-suzuki-cars/wagon-r/flex-fuel/',\n",
       " 'Maruti e Vitara': 'https://www.carwale.com/maruti-suzuki-cars/e-vitara/'}"
      ]
     },
     "execution_count": 184,
     "metadata": {},
     "output_type": "execute_result"
    }
   ],
   "source": [
    "\n",
    "category_section = soup.find('div', class_=\"o-dpDliG o-eAyrtt o-cglRxs aGK5Mk o-fpkJwH o-dCyDMp o-fzovSM\")\n",
    "c = category_section.find_all('li', class_=re.compile(r'o-fz'))\n",
    "for car in car_listings:\n",
    "    # Extract car name\n",
    "    car_name_tag = car.find('h3')\n",
    "    car_name = car_name_tag.text.strip() if car_name_tag else \"N/A\"\n",
    "    \n",
    "    # Extract car link\n",
    "    car_link_tag = car.find('a', href=True)\n",
    "    car_link = car_link_tag['href'] if car_link_tag else \"N/A\"\n",
    "\n",
    "    link= base_url+car_link\n",
    "    \n",
    "    car_details_dict[car_name] = link\n",
    "    \n",
    "    \n",
    "    \n",
    "\n",
    "car_details_dict    \n"
   ]
  },
  {
   "cell_type": "code",
   "execution_count": 228,
   "id": "8761df83-f4be-44f6-aa9a-b910b6cb8cd6",
   "metadata": {},
   "outputs": [],
   "source": [
    "# Fetch variants from a car's page\n",
    "variant_details_dict= {}\n",
    "def fetch_variants(car_name, car_link):\n",
    "    response = requests.get(car_link,headers = headers)\n",
    "    if response.status_code == 200:\n",
    "        soup = BeautifulSoup(response.text, 'html.parser')\n",
    "        variants_table = soup.find('tbody', class_=\"o-dJmcbh\")  # Adjust this if necessary\n",
    "        \n",
    "        variants = []\n",
    "        if variants_table:\n",
    "            rows = variants_table.find_all('tr')\n",
    "            for row in rows:\n",
    "                variant_name = row.find('div', class_=re.compile(r'o-fzp')).text.strip() if row.find('div', class_=re.compile(r'o-fzp')) else \"N/A\"\n",
    "                variant_link_tag = row.find('a', href=True)\n",
    "                variant_link = base_url + variant_link_tag['href'] if variant_link_tag else \"N/A\"\n",
    "                variants.append((variant_name, variant_link))\n",
    "                variant_details_dict[variant_name] = variant_link\n",
    "        return  variant_details_dict\n",
    "    else:\n",
    "        print(f\"Failed to fetch page. Status code: {response.status_code}\")\n",
    "        "
   ]
  },
  {
   "cell_type": "code",
   "execution_count": 230,
   "id": "677fd300-5e9a-41e4-8555-077bb831cf3a",
   "metadata": {},
   "outputs": [
    {
     "data": {
      "text/plain": [
       "{'Dzire LXi': 'https://www.carwale.com/maruti-suzuki-cars/dzire/lxi/',\n",
       " 'Dzire VXi': 'https://www.carwale.com/maruti-suzuki-cars/dzire/vxi/',\n",
       " 'Dzire VXi AMT': 'https://www.carwale.com/maruti-suzuki-cars/dzire/vxi-amt/',\n",
       " 'Dzire VXi CNG': 'https://www.carwale.com/maruti-suzuki-cars/dzire/vxi-cng/',\n",
       " 'Dzire ZXi': 'https://www.carwale.com/maruti-suzuki-cars/dzire/zxi/',\n",
       " 'Dzire ZXi AMT': 'https://www.carwale.com/maruti-suzuki-cars/dzire/zxi-amt/',\n",
       " 'Dzire ZXi Plus': 'https://www.carwale.com/maruti-suzuki-cars/dzire/zxi-plus/',\n",
       " 'Dzire ZXi CNG': 'https://www.carwale.com/maruti-suzuki-cars/dzire/zxi-cng/',\n",
       " 'Dzire ZXi Plus AMT': 'https://www.carwale.com/maruti-suzuki-cars/dzire/zxi-plus-amt/'}"
      ]
     },
     "execution_count": 230,
     "metadata": {},
     "output_type": "execute_result"
    }
   ],
   "source": [
    "\n",
    "maruthi_variants = fetch_variants('Maruti Dzire','https://www.carwale.com/maruti-suzuki-cars/dzire/')\n",
    "variant_details_dict"
   ]
  },
  {
   "cell_type": "code",
   "execution_count": 371,
   "id": "09d4caf2-e2e2-4c69-ab83-276b84bed870",
   "metadata": {},
   "outputs": [],
   "source": [
    "def scrape_all_car_details(variant_link):\n",
    "    response = requests.get(variant_link,headers = headers)\n",
    "    if response.status_code == 200:\n",
    "        soup = BeautifulSoup(response.text, 'html.parser')\n",
    "        info_table = soup.find('ul', class_=\"o-eFudgX o-bQXvsa o-cKSifp o-ItVGT o-cRSqer\")\n",
    "        \n",
    "        spec = soup.find_all('div',class_=\"o-cJrNdO o-biMxfO o-cYdrZi o-ckGLSv o-cMwvCl o-emwzWU\")\n",
    "        car_spec = CarSpecifications(\n",
    "            engine=spec[0].text.strip() if len(spec) > 0 else \"N/A\",\n",
    "            engine_type=spec[1].text.strip() if len(spec) > 1 else \"N/A\",\n",
    "            fuel_type=spec[2].text.strip() if len(spec) > 2 else \"N/A\",\n",
    "            max_power=spec[3].text.strip() if len(spec) > 3 else \"N/A\",\n",
    "            max_torque=spec[4].text.strip() if len(spec) > 4 else \"N/A\",\n",
    "            mileage=spec[5].text.strip() if len(spec) > 5 else \"N/A\",\n",
    "            driving_range=spec[6].text.strip() if len(spec) > 6 else \"N/A\",\n",
    "            drivetrain=spec[7].text.strip() if len(spec) > 7 else \"N/A\",\n",
    "            transmission_manual=spec[8].text.strip() if len(spec) > 8 else \"N/A\",\n",
    "            emission_standard=spec[9].text.strip() if len(spec) > 9 else \"N/A\",\n",
    "            electric_motor=spec[10].text.strip() if len(spec) > 10 else \"N/A\",\n",
    "            others=spec[11].text.strip() if len(spec) > 11 else \"N/A\",\n",
    "            valve_per_cylinder=spec[12].text.strip() if len(spec) > 12 else \"N/A\"\n",
    "        )\n",
    "        \n",
    "        \n",
    "        return car_spec\n",
    "    else:\n",
    "        print(f\"Failed to retrieve data, status code: {response.status_code}\")\n",
    "        return None\n",
    "\n",
    "        "
   ]
  },
  {
   "cell_type": "code",
   "execution_count": 383,
   "id": "47be77c0-1035-4b7a-b695-c4915d4cfa5a",
   "metadata": {},
   "outputs": [],
   "source": [
    "car_details =scrape_all_car_details('https://www.carwale.com/maruti-suzuki-cars/dzire/lxi/') "
   ]
  },
  {
   "cell_type": "code",
   "execution_count": 387,
   "id": "b68e3bc0-e2b9-4942-adb2-fb00a7d3a138",
   "metadata": {},
   "outputs": [
    {
     "name": "stdout",
     "output_type": "stream",
     "text": [
      "                                              engine engine_type fuel_type  \\\n",
      "0  1197 cc, 3 Cylinders Inline, 4 Valves/Cylinder...        Z12E    Petrol   \n",
      "\n",
      "           max_power max_torque     mileage driving_range drivetrain  \\\n",
      "0  80 bhp @ 5700 rpm   111.7 Nm  24.79 kmpl        917 km        FWD   \n",
      "\n",
      "  transmission_manual emission_standard electric_motor           others  \\\n",
      "0    Manual - 5 Gears       BS6 Phase 2             No  Idle Start/Stop   \n",
      "\n",
      "  valve_per_cylinder  \n",
      "0            4, DOHC  \n"
     ]
    }
   ],
   "source": [
    "\n",
    "\n",
    "# Convert dataclass to DataFrame\n",
    "if car_details:\n",
    "    # Convert dataclass instance to a dictionary and create a DataFrame\n",
    "    car_df = pd.DataFrame([car_details.__dict__])\n",
    "    print(car_df)"
   ]
  },
  {
   "cell_type": "code",
   "execution_count": null,
   "id": "a47cabe4-77ae-4ce3-90b8-37cafbe62182",
   "metadata": {},
   "outputs": [],
   "source": []
  }
 ],
 "metadata": {
  "kernelspec": {
   "display_name": "Python 3 (ipykernel)",
   "language": "python",
   "name": "python3"
  },
  "language_info": {
   "codemirror_mode": {
    "name": "ipython",
    "version": 3
   },
   "file_extension": ".py",
   "mimetype": "text/x-python",
   "name": "python",
   "nbconvert_exporter": "python",
   "pygments_lexer": "ipython3",
   "version": "3.12.7"
  }
 },
 "nbformat": 4,
 "nbformat_minor": 5
}
